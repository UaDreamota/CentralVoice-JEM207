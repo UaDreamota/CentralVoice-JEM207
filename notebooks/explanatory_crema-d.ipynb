{
 "cells": [
  {
   "metadata": {
    "ExecuteTime": {
     "end_time": "2025-06-05T07:11:36.885640Z",
     "start_time": "2025-06-05T07:11:35.543673Z"
    }
   },
   "cell_type": "code",
   "source": [
    "import pandas as pd\n",
    "import numpy as np\n",
    "import librosa\n",
    "import librosa.display\n",
    "import matplotlib.pyplot as plt"
   ],
   "id": "650b6dfc0ba03d6f",
   "outputs": [],
   "execution_count": 1
  },
  {
   "metadata": {
    "ExecuteTime": {
     "end_time": "2025-06-04T13:31:38.701004Z",
     "start_time": "2025-06-04T13:31:38.658605Z"
    }
   },
   "cell_type": "code",
   "source": "crem = pd.read_csv('../mela.csv')",
   "id": "4e2b2cca2dec37c8",
   "outputs": [],
   "execution_count": 29
  },
  {
   "metadata": {
    "ExecuteTime": {
     "end_time": "2025-06-04T13:39:28.285228Z",
     "start_time": "2025-06-04T13:39:28.243822Z"
    }
   },
   "cell_type": "code",
   "source": "crem[crem['split']=='train'].count()",
   "id": "ca47dc4066f72385",
   "outputs": [
    {
     "data": {
      "text/plain": [
       "path        2789\n",
       "actor_id    2789\n",
       "sentence    2789\n",
       "emotion     2789\n",
       "level       2789\n",
       "split       2789\n",
       "dtype: int64"
      ]
     },
     "execution_count": 33,
     "metadata": {},
     "output_type": "execute_result"
    }
   ],
   "execution_count": 33
  },
  {
   "metadata": {
    "ExecuteTime": {
     "end_time": "2025-06-05T07:13:08.643196Z",
     "start_time": "2025-06-05T07:13:08.405859Z"
    }
   },
   "cell_type": "code",
   "source": [
    "feature = \"../data/unprocessed/crema-d/AudioWAV/1001_DFA_ANG_XX.wav\"\n",
    "\n",
    "data = np.load(feature).astype(np.float32)      # expects 1-D audio samples\n",
    "if data.ndim > 1:\n",
    "    data = librosa.to_mono(data)\n",
    "plt.figure(figsize=(10, 5))\n",
    "spectrogram = librosa.feature.melspectrogram(y=data, sr=16_000,\n",
    "                                             n_mels=128, fmax=8000)\n",
    "log_spectrogram = librosa.power_to_db(spectrogram, ref=np.max)\n",
    "\n",
    "librosa.display.specshow(log_spectrogram, y_axis='mel',\n",
    "                         sr=16_000, x_axis='time')\n",
    "plt.title('Mel Spectrogram')\n",
    "plt.colorbar(format='%+2.0f dB')\n",
    "plt.show()"
   ],
   "id": "984ab126deaf5bb9",
   "outputs": [
    {
     "ename": "ValueError",
     "evalue": "This file contains pickled (object) data. If you trust the file you can load it unsafely using the `allow_pickle=` keyword argument or `pickle.load()`.",
     "output_type": "error",
     "traceback": [
      "\u001B[31m---------------------------------------------------------------------------\u001B[39m",
      "\u001B[31mValueError\u001B[39m                                Traceback (most recent call last)",
      "\u001B[36mCell\u001B[39m\u001B[36m \u001B[39m\u001B[32mIn[3]\u001B[39m\u001B[32m, line 3\u001B[39m\n\u001B[32m      1\u001B[39m feature = \u001B[33m\"\u001B[39m\u001B[33m../data/unprocessed/crema-d/AudioWAV/1001_DFA_ANG_XX.wav\u001B[39m\u001B[33m\"\u001B[39m\n\u001B[32m----> \u001B[39m\u001B[32m3\u001B[39m data = \u001B[43mnp\u001B[49m\u001B[43m.\u001B[49m\u001B[43mload\u001B[49m\u001B[43m(\u001B[49m\u001B[43mfeature\u001B[49m\u001B[43m)\u001B[49m.astype(np.float32)      \u001B[38;5;66;03m# expects 1-D audio samples\u001B[39;00m\n\u001B[32m      4\u001B[39m \u001B[38;5;28;01mif\u001B[39;00m data.ndim > \u001B[32m1\u001B[39m:\n\u001B[32m      5\u001B[39m     data = librosa.to_mono(data)\n",
      "\u001B[36mFile \u001B[39m\u001B[32mD:\\Projects\\GitRepositories\\CentralVoice-JEM207\\.venv\\Lib\\site-packages\\numpy\\lib\\_npyio_impl.py:486\u001B[39m, in \u001B[36mload\u001B[39m\u001B[34m(file, mmap_mode, allow_pickle, fix_imports, encoding, max_header_size)\u001B[39m\n\u001B[32m    483\u001B[39m \u001B[38;5;28;01melse\u001B[39;00m:\n\u001B[32m    484\u001B[39m     \u001B[38;5;66;03m# Try a pickle\u001B[39;00m\n\u001B[32m    485\u001B[39m     \u001B[38;5;28;01mif\u001B[39;00m \u001B[38;5;129;01mnot\u001B[39;00m allow_pickle:\n\u001B[32m--> \u001B[39m\u001B[32m486\u001B[39m         \u001B[38;5;28;01mraise\u001B[39;00m \u001B[38;5;167;01mValueError\u001B[39;00m(\n\u001B[32m    487\u001B[39m             \u001B[33m\"\u001B[39m\u001B[33mThis file contains pickled (object) data. If you trust \u001B[39m\u001B[33m\"\u001B[39m\n\u001B[32m    488\u001B[39m             \u001B[33m\"\u001B[39m\u001B[33mthe file you can load it unsafely using the \u001B[39m\u001B[33m\"\u001B[39m\n\u001B[32m    489\u001B[39m             \u001B[33m\"\u001B[39m\u001B[33m`allow_pickle=` keyword argument or `pickle.load()`.\u001B[39m\u001B[33m\"\u001B[39m)\n\u001B[32m    490\u001B[39m     \u001B[38;5;28;01mtry\u001B[39;00m:\n\u001B[32m    491\u001B[39m         \u001B[38;5;28;01mreturn\u001B[39;00m pickle.load(fid, **pickle_kwargs)\n",
      "\u001B[31mValueError\u001B[39m: This file contains pickled (object) data. If you trust the file you can load it unsafely using the `allow_pickle=` keyword argument or `pickle.load()`."
     ]
    }
   ],
   "execution_count": 3
  },
  {
   "metadata": {},
   "cell_type": "code",
   "outputs": [],
   "execution_count": null,
   "source": "",
   "id": "a21986d87f817ad5"
  },
  {
   "metadata": {},
   "cell_type": "code",
   "outputs": [],
   "execution_count": null,
   "source": "",
   "id": "274f9e89db6c0b44"
  }
 ],
 "metadata": {
  "kernelspec": {
   "display_name": "Python 3",
   "language": "python",
   "name": "python3"
  },
  "language_info": {
   "codemirror_mode": {
    "name": "ipython",
    "version": 2
   },
   "file_extension": ".py",
   "mimetype": "text/x-python",
   "name": "python",
   "nbconvert_exporter": "python",
   "pygments_lexer": "ipython2",
   "version": "2.7.6"
  }
 },
 "nbformat": 4,
 "nbformat_minor": 5
}
