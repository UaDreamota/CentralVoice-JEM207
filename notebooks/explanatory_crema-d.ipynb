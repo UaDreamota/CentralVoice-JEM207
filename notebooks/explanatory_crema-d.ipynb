{
 "cells": [
  {
   "metadata": {
    "ExecuteTime": {
     "end_time": "2025-06-04T13:31:37.741257Z",
     "start_time": "2025-06-04T13:31:37.728126Z"
    }
   },
   "cell_type": "code",
   "source": "import pandas as pd",
   "id": "650b6dfc0ba03d6f",
   "outputs": [],
   "execution_count": 28
  },
  {
   "metadata": {
    "ExecuteTime": {
     "end_time": "2025-06-04T13:31:38.701004Z",
     "start_time": "2025-06-04T13:31:38.658605Z"
    }
   },
   "cell_type": "code",
   "source": "crem = pd.read_csv('../mela.csv')",
   "id": "4e2b2cca2dec37c8",
   "outputs": [],
   "execution_count": 29
  },
  {
   "metadata": {
    "ExecuteTime": {
     "end_time": "2025-06-04T13:39:28.285228Z",
     "start_time": "2025-06-04T13:39:28.243822Z"
    }
   },
   "cell_type": "code",
   "source": "crem[crem['split']=='train'].count()",
   "id": "ca47dc4066f72385",
   "outputs": [
    {
     "data": {
      "text/plain": [
       "path        2789\n",
       "actor_id    2789\n",
       "sentence    2789\n",
       "emotion     2789\n",
       "level       2789\n",
       "split       2789\n",
       "dtype: int64"
      ]
     },
     "execution_count": 33,
     "metadata": {},
     "output_type": "execute_result"
    }
   ],
   "execution_count": 33
  },
  {
   "metadata": {
    "ExecuteTime": {
     "end_time": "2025-06-04T13:39:28.689488Z",
     "start_time": "2025-06-04T13:39:28.688079Z"
    }
   },
   "cell_type": "code",
   "source": "",
   "id": "984ab126deaf5bb9",
   "outputs": [],
   "execution_count": null
  },
  {
   "metadata": {},
   "cell_type": "code",
   "outputs": [],
   "execution_count": null,
   "source": "",
   "id": "a21986d87f817ad5"
  },
  {
   "metadata": {},
   "cell_type": "code",
   "outputs": [],
   "execution_count": null,
   "source": "crem = pd.read_csv = '",
   "id": "274f9e89db6c0b44"
  }
 ],
 "metadata": {
  "kernelspec": {
   "display_name": "Python 3",
   "language": "python",
   "name": "python3"
  },
  "language_info": {
   "codemirror_mode": {
    "name": "ipython",
    "version": 2
   },
   "file_extension": ".py",
   "mimetype": "text/x-python",
   "name": "python",
   "nbconvert_exporter": "python",
   "pygments_lexer": "ipython2",
   "version": "2.7.6"
  }
 },
 "nbformat": 4,
 "nbformat_minor": 5
}
